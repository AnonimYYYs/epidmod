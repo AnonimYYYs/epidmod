{
  "nbformat": 4,
  "nbformat_minor": 0,
  "metadata": {
    "colab": {
      "name": "main.ipynb",
      "provenance": [],
      "collapsed_sections": [
        "EzQ9g1MOuk8T",
        "cntB599Tw7l6",
        "ZtEgzya6G26O",
        "ZP7s74XmAB1l"
      ],
      "toc_visible": true
    },
    "kernelspec": {
      "display_name": "Python 3",
      "name": "python3"
    }
  },
  "cells": [
    {
      "cell_type": "code",
      "metadata": {
        "id": "9QLtI6fJuhMJ"
      },
      "source": [
        "import networkx as nx\n",
        "\n",
        "import numpy as np\n",
        "import scipy.sparse as sparse\n",
        "import cupy.sparse as cusparse\n",
        "\n",
        "import torch\n",
        "import matplotlib.pyplot as plt\n",
        "\n",
        "import random as rnd\n",
        "import pandas as pd\n",
        "import time"
      ],
      "execution_count": 2,
      "outputs": []
    },
    {
      "cell_type": "code",
      "metadata": {
        "id": "h-0H6HQ4Uvk5"
      },
      "source": [
        "# nx <= 22000\n",
        "# cu <= 17000"
      ],
      "execution_count": 2,
      "outputs": []
    },
    {
      "cell_type": "markdown",
      "metadata": {
        "id": "EzQ9g1MOuk8T"
      },
      "source": [
        "# Gathering total time\n"
      ]
    },
    {
      "cell_type": "code",
      "metadata": {
        "id": "hk-HGUWqwn_a"
      },
      "source": [
        "# initial data                         \n",
        "T = 75                                   \n",
        "END_OF_TIMES = 1000000                     \n",
        "\n",
        "infectious_lambda = 1/0.186 # распределение вейбула αˆ= and λˆ=\n",
        "infectious_alpha = 1.24\n",
        "\n",
        "removed_lambda = 16.5 # mean = 14.46 \n",
        "removed_alpha = 2.5   # sd = 6\n",
        "\n",
        "death_rate = 0.03\n",
        "infectious_rate = 0.0258\n",
        "\n",
        "cuda0 = torch.device('cuda')\n",
        "\n",
        "results = pd.DataFrame(columns=['no_cuda','torch_cuda','graph_cuda','all_cuda'], index=[i for i in range(1000, 17001, 1000)])"
      ],
      "execution_count": 5,
      "outputs": []
    },
    {
      "cell_type": "markdown",
      "metadata": {
        "id": "fZ-fco7Cwvcq"
      },
      "source": [
        "## torch without cuda, graph on networkx"
      ]
    },
    {
      "cell_type": "code",
      "metadata": {
        "cellView": "code",
        "id": "gWqV3ZcvuhG1"
      },
      "source": [
        "def no_cuda(pop):\n",
        "  p_exposed    = int(pop * 0.1)       \n",
        "  p_infectious = int(pop * 0.05)       \n",
        "  p_removed    = 0                   \n",
        "\n",
        "\n",
        "\n",
        "  nearest = 6\n",
        "  density = 2 * nearest / (pop - 1)\n",
        "\n",
        "  G = nx.watts_strogatz_graph(pop, nearest, 0.2) #4\n",
        "\n",
        "  state = torch.zeros(pop)\n",
        "  state[0:p_exposed] = 1\n",
        "  state[p_exposed:p_exposed+p_infectious]=2\n",
        "  state = state[torch.randperm(state.nelement())]\n",
        "\n",
        "  tau = torch.full([pop], END_OF_TIMES)\n",
        "\n",
        "  ei_distr = torch.distributions.Weibull(torch.tensor([infectious_lambda]), torch.tensor([infectious_alpha]))\n",
        "  ir_distr = torch.distributions.Weibull(torch.tensor([removed_lambda]), torch.tensor([removed_alpha]))\n",
        "\n",
        "  for t in range(T):\n",
        "    \n",
        "      Z = nx.fast_gnp_random_graph(pop, density)\n",
        "\n",
        "      A = nx.adjacency_matrix(nx.compose(G, Z))\n",
        "\n",
        "      AM = torch.tensor(A.todense())\n",
        "      idx = (state == 1) & (tau == END_OF_TIMES)\n",
        "      tau[idx] = torch.reshape(ei_distr.sample(tau[idx].size()).long(),(-1,)) + t\n",
        "\n",
        "      idx = (state == 2) & (tau == END_OF_TIMES)\n",
        "      tau[idx] = torch.reshape(ir_distr.sample(tau[idx].size()).long(),(-1,)) + t\n",
        "      # print(tau)\n",
        "\n",
        "      # Susceptible -> Exposed\n",
        "      p = 1-(1-infectious_rate)**torch.sum((AM * (state==1)), dim=1)\n",
        "      x = torch.rand(len(AM))\n",
        "      idx = (x <= p) & (state==0)\n",
        "      state[idx] = 1\n",
        "      tau[idx] = END_OF_TIMES\n",
        "\n",
        "      p = 1-(1-(infectious_rate/8))**torch.sum((AM * (state==2)), dim=1)\n",
        "      x = torch.rand(len(AM))\n",
        "      idx = (x <= p) & (state==0)\n",
        "      state[idx] = 1\n",
        "      tau[idx] = END_OF_TIMES\n",
        "\n",
        "      # Exposed -> Infectious\n",
        "      idx = (state == 1) & (tau == t)\n",
        "      state[idx] = 2\n",
        "      tau[idx] = END_OF_TIMES\n",
        "\n",
        "      # Infectious -> Removed\n",
        "      idx = (state == 2) & (tau == t)\n",
        "      state[idx] = 3\n",
        "      tau[idx] = END_OF_TIMES\n",
        "\n",
        "  print(int(sum(state==0)),int(sum(state==1)),int(sum(state==2)),int(sum(state==3)))"
      ],
      "execution_count": 6,
      "outputs": []
    },
    {
      "cell_type": "markdown",
      "metadata": {
        "id": "cntB599Tw7l6"
      },
      "source": [
        "## torch with cuda, graph on networkx"
      ]
    },
    {
      "cell_type": "code",
      "metadata": {
        "id": "mwDs_4lGuhB7"
      },
      "source": [
        "def torch_cuda(pop):\n",
        "  p_exposed    = int(pop * 0.1)       \n",
        "  p_infectious = int(pop * 0.05)       \n",
        "  p_removed    = 0                   \n",
        "\n",
        "\n",
        "\n",
        "  nearest = 6\n",
        "  density = 2 * nearest / (pop - 1)\n",
        "\n",
        "\n",
        "  G = nx.watts_strogatz_graph(pop, nearest, 0.2) #4\n",
        "\n",
        "  state = torch.zeros(pop, device=cuda0)\n",
        "  state[0:p_exposed] = 1\n",
        "  state[p_exposed:p_exposed+p_infectious]=2\n",
        "  state = state[torch.randperm(state.nelement(), device=cuda0)]\n",
        "\n",
        "  tau = torch.full([pop], END_OF_TIMES, device=cuda0)\n",
        "\n",
        "  ei_distr = torch.distributions.Weibull(torch.tensor([infectious_lambda], device=cuda0), torch.tensor([infectious_alpha], device=cuda0))\n",
        "  ir_distr = torch.distributions.Weibull(torch.tensor([removed_lambda], device=cuda0), torch.tensor([removed_alpha], device=cuda0))\n",
        "\n",
        "  for t in range(T):\n",
        "\n",
        "      Z = nx.fast_gnp_random_graph(pop, density)\n",
        "\n",
        "      GZ = nx.compose(G, Z)\n",
        "\n",
        "      A = nx.adjacency_matrix(GZ)\n",
        "\n",
        "      AM = torch.tensor(A.todense(), device=cuda0)\n",
        "      idx = (state == 1) & (tau == END_OF_TIMES)\n",
        "      tau[idx] = torch.reshape(ei_distr.sample(tau[idx].size()).long(),(-1,)) + t\n",
        "\n",
        "      idx = (state == 2) & (tau == END_OF_TIMES)\n",
        "      tau[idx] = torch.reshape(ir_distr.sample(tau[idx].size()).long(),(-1,)) + t\n",
        "      # print(tau)\n",
        "\n",
        "      # Susceptible -> Exposed\n",
        "      p = 1-(1-infectious_rate)**torch.sum((AM * (state==1)), dim=1)\n",
        "      x = torch.rand(len(AM), device=cuda0)\n",
        "      idx = (x <= p) & (state==0)\n",
        "      state[idx] = 1\n",
        "      tau[idx] = END_OF_TIMES\n",
        "\n",
        "      p = 1-(1-(infectious_rate/8))**torch.sum((AM * (state==2)), dim=1)\n",
        "      x = torch.rand(len(AM), device=cuda0)\n",
        "      idx = (x <= p) & (state==0)\n",
        "      state[idx] = 1\n",
        "      tau[idx] = END_OF_TIMES\n",
        "\n",
        "      # Exposed -> Infectious\n",
        "      idx = (state == 1) & (tau == t)\n",
        "      state[idx] = 2\n",
        "      tau[idx] = END_OF_TIMES\n",
        "\n",
        "      # Infectious -> Removed\n",
        "      idx = (state == 2) & (tau == t)\n",
        "      state[idx] = 3\n",
        "      tau[idx] = END_OF_TIMES\n",
        "\n",
        "  print(int(sum(state==0)),int(sum(state==1)),int(sum(state==2)),int(sum(state==3)))"
      ],
      "execution_count": 7,
      "outputs": []
    },
    {
      "cell_type": "markdown",
      "metadata": {
        "id": "ZtEgzya6G26O"
      },
      "source": [
        "## torch without cuda, graph with cuda-scipy"
      ]
    },
    {
      "cell_type": "code",
      "metadata": {
        "id": "oDnidrPAug8s"
      },
      "source": [
        "def graph_cuda(pop):\n",
        "  p_exposed    = int(pop * 0.1)       \n",
        "  p_infectious = int(pop * 0.05)       \n",
        "  p_removed    = 0                   \n",
        "\n",
        "\n",
        "\n",
        "  nearest = 6\n",
        "  density = 2 * nearest / (pop - 1)\n",
        "\n",
        "  G = nx.watts_strogatz_graph(pop, nearest, 0.2) #4\n",
        "  A = nx.to_scipy_sparse_matrix(G, dtype=np.float32)\n",
        "\n",
        "  A = cusparse.csr_matrix(A)\n",
        "\n",
        "  state = torch.zeros(pop)\n",
        "  state[0:p_exposed] = 1\n",
        "  state[p_exposed:p_exposed+p_infectious]=2\n",
        "  state = state[torch.randperm(state.nelement())]\n",
        "\n",
        "  tau = torch.full([pop], END_OF_TIMES)\n",
        "\n",
        "  ei_distr = torch.distributions.Weibull(torch.tensor([infectious_lambda]), torch.tensor([infectious_alpha]))\n",
        "  ir_distr = torch.distributions.Weibull(torch.tensor([removed_lambda]), torch.tensor([removed_alpha]))\n",
        "\n",
        "  for t in range(T):\n",
        "\n",
        "\n",
        "      B = cusparse.rand(pop, pop, density=density, format='csr', dtype=np.float32)\n",
        "      B = B + B.T\n",
        "      B.data[:] = 1\n",
        "      \n",
        "\n",
        "      AM = torch.tensor((A + B).todense())\n",
        "      idx = (state == 1) & (tau == END_OF_TIMES)\n",
        "      tau[idx] = torch.reshape(ei_distr.sample(tau[idx].size()).long(),(-1,)) + t\n",
        "\n",
        "      idx = (state == 2) & (tau == END_OF_TIMES)\n",
        "      tau[idx] = torch.reshape(ir_distr.sample(tau[idx].size()).long(),(-1,)) + t\n",
        "      # print(tau)\n",
        "\n",
        "      # Susceptible -> Exposed\n",
        "      p = 1-(1-infectious_rate)**torch.sum((AM * (state==1)), dim=1)\n",
        "      x = torch.rand(len(AM))\n",
        "      idx = (x <= p) & (state==0)\n",
        "      state[idx] = 1\n",
        "      tau[idx] = END_OF_TIMES\n",
        "\n",
        "      p = 1-(1-(infectious_rate/8))**torch.sum((AM * (state==2)), dim=1)\n",
        "      x = torch.rand(len(AM))\n",
        "      idx = (x <= p) & (state==0)\n",
        "      state[idx] = 1\n",
        "      tau[idx] = END_OF_TIMES\n",
        "\n",
        "      # Exposed -> Infectious\n",
        "      idx = (state == 1) & (tau == t)\n",
        "      state[idx] = 2\n",
        "      tau[idx] = END_OF_TIMES\n",
        "\n",
        "      # Infectious -> Removed\n",
        "      idx = (state == 2) & (tau == t)\n",
        "      state[idx] = 3\n",
        "      tau[idx] = END_OF_TIMES\n",
        "\n",
        "      del B\n",
        "\n",
        "  print(int(sum(state==0)),int(sum(state==1)),int(sum(state==2)),int(sum(state==3)))"
      ],
      "execution_count": 12,
      "outputs": []
    },
    {
      "cell_type": "markdown",
      "metadata": {
        "id": "ZP7s74XmAB1l"
      },
      "source": [
        "## torch with cuda, graph with cuda-scipy"
      ]
    },
    {
      "cell_type": "code",
      "metadata": {
        "id": "WR3FHD04ug36"
      },
      "source": [
        "def all_cuda(pop):\n",
        "  p_exposed    = int(pop * 0.1)       \n",
        "  p_infectious = int(pop * 0.05)       \n",
        "  p_removed    = 0                   \n",
        "\n",
        "\n",
        "\n",
        "  nearest = 6\n",
        "  density = 2 * nearest / (pop - 1)\n",
        "\n",
        "\n",
        "  G = nx.watts_strogatz_graph(pop, nearest, 0.2) #4\n",
        "  A = nx.to_scipy_sparse_matrix(G, dtype=np.float32)\n",
        "\n",
        "  A = cusparse.csr_matrix(A)\n",
        "\n",
        "  state = torch.zeros(pop, device=cuda0)\n",
        "  state[0:p_exposed] = 1\n",
        "  state[p_exposed:p_exposed+p_infectious]=2\n",
        "  state = state[torch.randperm(state.nelement(), device=cuda0)]\n",
        "\n",
        "  tau = torch.full([pop], END_OF_TIMES, device=cuda0)\n",
        "\n",
        "  ei_distr = torch.distributions.Weibull(torch.tensor([infectious_lambda], device=cuda0), torch.tensor([infectious_alpha], device=cuda0))\n",
        "  ir_distr = torch.distributions.Weibull(torch.tensor([removed_lambda], device=cuda0), torch.tensor([removed_alpha], device=cuda0))\n",
        "\n",
        "  for t in range(T):\n",
        "\n",
        "\n",
        "      B = cusparse.rand(pop, pop, density=density, format='csr', dtype=np.float32)\n",
        "      B = B + B.T\n",
        "      B.data[:] = 1\n",
        "      \n",
        "\n",
        "      AM = torch.tensor((A + B).todense(), device=cuda0)\n",
        "      idx = (state == 1) & (tau == END_OF_TIMES)\n",
        "      tau[idx] = torch.reshape(ei_distr.sample(tau[idx].size()).long(),(-1,)) + t\n",
        "\n",
        "      idx = (state == 2) & (tau == END_OF_TIMES)\n",
        "      tau[idx] = torch.reshape(ir_distr.sample(tau[idx].size()).long(),(-1,)) + t\n",
        "      # print(tau)\n",
        "\n",
        "      # Susceptible -> Exposed\n",
        "      p = 1-(1-infectious_rate)**torch.sum((AM * (state==1)), dim=1)\n",
        "      x = torch.rand(len(AM), device=cuda0)\n",
        "      idx = (x <= p) & (state==0)\n",
        "      state[idx] = 1\n",
        "      tau[idx] = END_OF_TIMES\n",
        "\n",
        "      p = 1-(1-(infectious_rate/8))**torch.sum((AM * (state==2)), dim=1)\n",
        "      x = torch.rand(len(AM), device=cuda0)\n",
        "      idx = (x <= p) & (state==0)\n",
        "      state[idx] = 1\n",
        "      tau[idx] = END_OF_TIMES\n",
        "\n",
        "      # Exposed -> Infectious\n",
        "      idx = (state == 1) & (tau == t)\n",
        "      state[idx] = 2\n",
        "      tau[idx] = END_OF_TIMES\n",
        "\n",
        "      # Infectious -> Removed\n",
        "      idx = (state == 2) & (tau == t)\n",
        "      state[idx] = 3\n",
        "      tau[idx] = END_OF_TIMES\n",
        "\n",
        "      del B\n",
        "\n",
        "  print(int(sum(state==0)),int(sum(state==1)),int(sum(state==2)),int(sum(state==3)))"
      ],
      "execution_count": 13,
      "outputs": []
    },
    {
      "cell_type": "markdown",
      "metadata": {
        "id": "Pnpd8rsnA5mS"
      },
      "source": [
        "# main\n"
      ]
    },
    {
      "cell_type": "code",
      "metadata": {
        "id": "Dn0lR4UVvyIe"
      },
      "source": [
        "if cuda0.type == 'cuda':\n",
        "    print(torch.cuda.get_device_name(0))\n",
        "    print('Memory Usage:')\n",
        "    print('Allocated:', round(torch.cuda.memory_allocated(0)/1024**3,1), 'GB')\n",
        "    print('Cached:   ', round(torch.cuda.memory_reserved(0)/1024**3,1), 'GB')"
      ],
      "execution_count": null,
      "outputs": []
    },
    {
      "cell_type": "code",
      "metadata": {
        "id": "I37n3IViskHs"
      },
      "source": [
        "n = 5\n",
        "for i in range(1000, 17001, 1000):\n",
        "  #for fun in [no_cuda, torch_cuda, graph_cuda, all_cuda]:\n",
        "  for fun in  [all_cuda]:\n",
        "    print(f\"{i}:{fun.__name__}\")\n",
        "    try:\n",
        "      beg = time.perf_counter()\n",
        "      for _ in range(n):\n",
        "        fun(i)\n",
        "      end = time.perf_counter()\n",
        "      results[fun.__name__][i] = (end - beg) / n\n",
        "    except Exception:\n",
        "      print('some error')"
      ],
      "execution_count": null,
      "outputs": []
    },
    {
      "cell_type": "code",
      "metadata": {
        "id": "-97PXrC-ug1M"
      },
      "source": [
        "results"
      ],
      "execution_count": null,
      "outputs": []
    },
    {
      "cell_type": "code",
      "metadata": {
        "id": "gm8rh88Egvqy"
      },
      "source": [
        "text_file = open(\"f.json\", \"w\")\n",
        "text_file.write(results.to_json())\n",
        "text_file.close()"
      ],
      "execution_count": 10,
      "outputs": []
    },
    {
      "cell_type": "markdown",
      "metadata": {
        "id": "0SCzO16Gv_Cu"
      },
      "source": [
        "# show results\n"
      ]
    },
    {
      "cell_type": "code",
      "metadata": {
        "id": "aGRpSxiGI__k",
        "colab": {
          "base_uri": "https://localhost:8080/",
          "height": 576
        },
        "outputId": "ae16c2a4-11be-42cd-8e0a-ee79f96864f9"
      },
      "source": [
        "df = pd.read_json('f.json')\n",
        "df"
      ],
      "execution_count": 4,
      "outputs": [
        {
          "output_type": "execute_result",
          "data": {
            "text/html": [
              "<div>\n",
              "<style scoped>\n",
              "    .dataframe tbody tr th:only-of-type {\n",
              "        vertical-align: middle;\n",
              "    }\n",
              "\n",
              "    .dataframe tbody tr th {\n",
              "        vertical-align: top;\n",
              "    }\n",
              "\n",
              "    .dataframe thead th {\n",
              "        text-align: right;\n",
              "    }\n",
              "</style>\n",
              "<table border=\"1\" class=\"dataframe\">\n",
              "  <thead>\n",
              "    <tr style=\"text-align: right;\">\n",
              "      <th></th>\n",
              "      <th>no_cuda</th>\n",
              "      <th>torch_cuda</th>\n",
              "      <th>graph_cuda</th>\n",
              "      <th>all_cuda</th>\n",
              "    </tr>\n",
              "  </thead>\n",
              "  <tbody>\n",
              "    <tr>\n",
              "      <th>1000</th>\n",
              "      <td>5.577327</td>\n",
              "      <td>5.605667</td>\n",
              "      <td>2.349542</td>\n",
              "      <td>1.754620</td>\n",
              "    </tr>\n",
              "    <tr>\n",
              "      <th>2000</th>\n",
              "      <td>14.540968</td>\n",
              "      <td>12.954593</td>\n",
              "      <td>3.961023</td>\n",
              "      <td>1.335633</td>\n",
              "    </tr>\n",
              "    <tr>\n",
              "      <th>3000</th>\n",
              "      <td>20.883131</td>\n",
              "      <td>17.556133</td>\n",
              "      <td>4.630087</td>\n",
              "      <td>2.241123</td>\n",
              "    </tr>\n",
              "    <tr>\n",
              "      <th>4000</th>\n",
              "      <td>30.958768</td>\n",
              "      <td>24.607735</td>\n",
              "      <td>7.883806</td>\n",
              "      <td>3.670711</td>\n",
              "    </tr>\n",
              "    <tr>\n",
              "      <th>5000</th>\n",
              "      <td>42.710044</td>\n",
              "      <td>32.654213</td>\n",
              "      <td>12.482012</td>\n",
              "      <td>5.551425</td>\n",
              "    </tr>\n",
              "    <tr>\n",
              "      <th>6000</th>\n",
              "      <td>56.031443</td>\n",
              "      <td>41.175750</td>\n",
              "      <td>16.773909</td>\n",
              "      <td>6.996483</td>\n",
              "    </tr>\n",
              "    <tr>\n",
              "      <th>7000</th>\n",
              "      <td>71.276131</td>\n",
              "      <td>50.759402</td>\n",
              "      <td>23.022793</td>\n",
              "      <td>9.215419</td>\n",
              "    </tr>\n",
              "    <tr>\n",
              "      <th>8000</th>\n",
              "      <td>86.877028</td>\n",
              "      <td>60.139646</td>\n",
              "      <td>29.302648</td>\n",
              "      <td>11.734574</td>\n",
              "    </tr>\n",
              "    <tr>\n",
              "      <th>9000</th>\n",
              "      <td>105.513303</td>\n",
              "      <td>72.095287</td>\n",
              "      <td>36.902230</td>\n",
              "      <td>14.572522</td>\n",
              "    </tr>\n",
              "    <tr>\n",
              "      <th>10000</th>\n",
              "      <td>125.661257</td>\n",
              "      <td>84.569773</td>\n",
              "      <td>44.277452</td>\n",
              "      <td>17.856879</td>\n",
              "    </tr>\n",
              "    <tr>\n",
              "      <th>11000</th>\n",
              "      <td>182.136206</td>\n",
              "      <td>111.034998</td>\n",
              "      <td>57.877926</td>\n",
              "      <td>21.637301</td>\n",
              "    </tr>\n",
              "    <tr>\n",
              "      <th>12000</th>\n",
              "      <td>210.863290</td>\n",
              "      <td>115.574849</td>\n",
              "      <td>64.978767</td>\n",
              "      <td>25.923840</td>\n",
              "    </tr>\n",
              "    <tr>\n",
              "      <th>13000</th>\n",
              "      <td>249.257022</td>\n",
              "      <td>123.447635</td>\n",
              "      <td>77.847929</td>\n",
              "      <td>29.356932</td>\n",
              "    </tr>\n",
              "    <tr>\n",
              "      <th>14000</th>\n",
              "      <td>281.301632</td>\n",
              "      <td>133.740844</td>\n",
              "      <td>86.558988</td>\n",
              "      <td>33.679145</td>\n",
              "    </tr>\n",
              "    <tr>\n",
              "      <th>15000</th>\n",
              "      <td>314.755024</td>\n",
              "      <td>149.404920</td>\n",
              "      <td>102.582749</td>\n",
              "      <td>38.679745</td>\n",
              "    </tr>\n",
              "    <tr>\n",
              "      <th>16000</th>\n",
              "      <td>334.823565</td>\n",
              "      <td>165.209513</td>\n",
              "      <td>112.569570</td>\n",
              "      <td>43.578667</td>\n",
              "    </tr>\n",
              "    <tr>\n",
              "      <th>17000</th>\n",
              "      <td>428.282841</td>\n",
              "      <td>181.699004</td>\n",
              "      <td>133.246292</td>\n",
              "      <td>49.794739</td>\n",
              "    </tr>\n",
              "  </tbody>\n",
              "</table>\n",
              "</div>"
            ],
            "text/plain": [
              "          no_cuda  torch_cuda  graph_cuda   all_cuda\n",
              "1000     5.577327    5.605667    2.349542   1.754620\n",
              "2000    14.540968   12.954593    3.961023   1.335633\n",
              "3000    20.883131   17.556133    4.630087   2.241123\n",
              "4000    30.958768   24.607735    7.883806   3.670711\n",
              "5000    42.710044   32.654213   12.482012   5.551425\n",
              "6000    56.031443   41.175750   16.773909   6.996483\n",
              "7000    71.276131   50.759402   23.022793   9.215419\n",
              "8000    86.877028   60.139646   29.302648  11.734574\n",
              "9000   105.513303   72.095287   36.902230  14.572522\n",
              "10000  125.661257   84.569773   44.277452  17.856879\n",
              "11000  182.136206  111.034998   57.877926  21.637301\n",
              "12000  210.863290  115.574849   64.978767  25.923840\n",
              "13000  249.257022  123.447635   77.847929  29.356932\n",
              "14000  281.301632  133.740844   86.558988  33.679145\n",
              "15000  314.755024  149.404920  102.582749  38.679745\n",
              "16000  334.823565  165.209513  112.569570  43.578667\n",
              "17000  428.282841  181.699004  133.246292  49.794739"
            ]
          },
          "metadata": {
            "tags": []
          },
          "execution_count": 4
        }
      ]
    },
    {
      "cell_type": "code",
      "metadata": {
        "colab": {
          "base_uri": "https://localhost:8080/",
          "height": 282
        },
        "id": "2OWII3BJl9Lr",
        "outputId": "e3e876e4-fc39-4eda-aaaf-21d37f183894"
      },
      "source": [
        "pd.read_json('f.json').plot()"
      ],
      "execution_count": 5,
      "outputs": [
        {
          "output_type": "execute_result",
          "data": {
            "text/plain": [
              "<matplotlib.axes._subplots.AxesSubplot at 0x7f889d620a90>"
            ]
          },
          "metadata": {
            "tags": []
          },
          "execution_count": 5
        },
        {
          "output_type": "display_data",
          "data": {
            "image/png": "[encoded data removed]",
            "text/plain": [
              "<Figure size 432x288 with 1 Axes>"
            ]
          },
          "metadata": {
            "tags": [],
            "needs_background": "light"
          }
        }
      ]
    },
    {
      "cell_type": "code",
      "metadata": {
        "colab": {
          "base_uri": "https://localhost:8080/"
        },
        "id": "TdY7x5ywonHY",
        "outputId": "64259de2-65d2-4758-da25-577265953284"
      },
      "source": [
        "df['no_cuda'] / df['all_cuda'] "
      ],
      "execution_count": 6,
      "outputs": [
        {
          "output_type": "execute_result",
          "data": {
            "text/plain": [
              "1000      3.178652\n",
              "2000     10.886947\n",
              "3000      9.318156\n",
              "4000      8.433998\n",
              "5000      7.693528\n",
              "6000      8.008516\n",
              "7000      7.734442\n",
              "8000      7.403509\n",
              "9000      7.240566\n",
              "10000     7.037134\n",
              "11000     8.417695\n",
              "12000     8.133953\n",
              "13000     8.490568\n",
              "14000     8.352398\n",
              "15000     8.137464\n",
              "16000     7.683199\n",
              "17000     8.600966\n",
              "dtype: float64"
            ]
          },
          "metadata": {
            "tags": []
          },
          "execution_count": 6
        }
      ]
    },
    {
      "cell_type": "code",
      "metadata": {
        "colab": {
          "base_uri": "https://localhost:8080/"
        },
        "id": "tMbBzkbfoVqp",
        "outputId": "5503c6f7-aad5-4c74-8797-836bed0cdb67"
      },
      "source": [
        "(df['no_cuda'] / df['all_cuda']).mean()"
      ],
      "execution_count": 7,
      "outputs": [
        {
          "output_type": "execute_result",
          "data": {
            "text/plain": [
              "7.926569980118638"
            ]
          },
          "metadata": {
            "tags": []
          },
          "execution_count": 7
        }
      ]
    }
  ]
}